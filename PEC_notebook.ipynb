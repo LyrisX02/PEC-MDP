{
 "cells": [
  {
   "cell_type": "markdown",
   "metadata": {},
   "source": [
    "## PEC-MDP Translator\n",
    "\n",
    "The `PEC_Parser` is a Python-based module designed to convert Probabilistic Event Calculus (PEC) domains into Markov Decision Process (MDP) components. The parser utilizes natural language patterns to extract propositions and components from a given PEC domain string, enabling the translation process. This notebook demonstrates the functionality and flexibility of the PEC_Parser module. \n",
    "The demonstration is structured in three main parts:\n",
    "\n",
    "* Introduction to the parser's functions, and how PEC propositions are translated into PEC-MDP components.\n",
    "\n",
    "* Presentation of the pecmdp class, which encapsulates the translated PEC-MDP components in a full PEC-MDP for further manipulation.\n",
    "\n",
    "* Practical application of the translator for probabilistic sampling, illustrating its utility in querying PEC-MDP models.\n",
    "\n",
    "To highlight the versatility of the translator, the notebook includes several example domains with diverse properties. These examples serve to demonstrate how the PEC parser can handle a range of PEC domain specifications, from simple to complex. By the end of this demonstration, users will have a comprehensive understanding of how to leverage the PEC-MDP Translator to convert PEC domains into MDP components, facilitating advanced probabilistic reasoning and analysis in event-driven systems."
   ]
  },
  {
   "cell_type": "markdown",
   "metadata": {},
   "source": [
    "### Example PEC domains\n",
    "\n",
    "* \"PEC_example_1.txt\" (Antibiotic): This domain models the interaction medicine with bacteria and rash. \n",
    "\n",
    "* \"PEC_example_2.txt\" (Tuberculosis): Another medical domain focusing on tuberculosis. It has a single fluent (tuberculosis) affected by two actions (exposure and reactivation).\n",
    "\n",
    "* \"PEC_example_3.txt\" (Decay): This domain demonstrates a decay process where a single fluent starts as true and can be changed to false by an action at each time point. The probability of the fluent remaining true decays over time.\n",
    "\n",
    "* \"PEC_example_4.txt\" (Tamagotchi): A more complex domain involving a virtual pet (Tamagotchi) with multiple fluents (hungry, thirsty, mood). This features a higher-dimensional domain with concurrent action-taking.\n",
    "\n",
    "* \"PEC_example_5.txt\" (Coin and Dice): A simple, interpretable domain featuring a coin and a dice with conventional values. The domain includes actions for tossing the coin and rolling the die, which can change their respective values.\n",
    "\n",
    "Domains 1-3 are sourced from the GitHub repository https://github.com/dasaro/pec-anglican and serve as standard examples of Probabilistic Event Calculus (PEC). Domains 4 and 5 are custom examples designed to showcase additional complexities and scenarios."
   ]
  },
  {
   "cell_type": "code",
   "execution_count": 14,
   "metadata": {},
   "outputs": [],
   "source": [
    "file_path = \"PEC_example_5.txt\"\n",
    "file = open(file_path, \"r\")\n",
    "domain_string = file.read()"
   ]
  },
  {
   "cell_type": "markdown",
   "metadata": {},
   "source": [
    "### PEC Parser"
   ]
  },
  {
   "cell_type": "markdown",
   "metadata": {},
   "source": [
    "The module `PEC_Parser` is comprised of two main classes `domain` and `PECMDP`. The first class `domain` contains various methods for encoding each PEC component into its PEC-MDP representation. The main methods which generate PEC-MDP components include:\n",
    "\n",
    "* `initialise_all`\n",
    "\n",
    "* `get_initial`\n",
    "\n",
    "* `get_transition`\n",
    "\n",
    "* `get_policy`\n",
    "\n",
    "\n",
    "Firstly, the method `initialise_all` generates the fundamental constituents of a domain including its fluents, values, states, actions and time instants. The method must be called prior to initialising all other components of the PEC-MDP. It takes the domain string as input and extracts v-propositions to integer-encode fluents, values, and states. P-propositions are extracted to integer encode actions in the domain, including any combinations of actions that may occur simultaneously. `initialise_all` returns he dictionaries `fluent_dict`, `value_dict`, `state_dict`, and `action_dict`."
   ]
  },
  {
   "cell_type": "code",
   "execution_count": 15,
   "metadata": {},
   "outputs": [
    {
     "data": {
      "text/plain": [
       "({'Coin': 0, 'Dice': 1},\n",
       " {'Heads': 0,\n",
       "  'Tails': 1,\n",
       "  'One': 2,\n",
       "  'Two': 3,\n",
       "  'Three': 4,\n",
       "  'Four': 5,\n",
       "  'Five': 6,\n",
       "  'Six': 7},\n",
       " {(0, 2): 0,\n",
       "  (0, 3): 1,\n",
       "  (0, 4): 2,\n",
       "  (0, 5): 3,\n",
       "  (0, 6): 4,\n",
       "  (0, 7): 5,\n",
       "  (1, 2): 6,\n",
       "  (1, 3): 7,\n",
       "  (1, 4): 8,\n",
       "  (1, 5): 9,\n",
       "  (1, 6): 10,\n",
       "  (1, 7): 11},\n",
       " {'TossCoin': 0, 'TossDice': 1, 'TossCoin and TossDice': 2, 'null': 3})"
      ]
     },
     "execution_count": 15,
     "metadata": {},
     "output_type": "execute_result"
    }
   ],
   "source": [
    "import PEC_Parser\n",
    "\n",
    "# Instantiate a domain object\n",
    "domain = PEC_Parser.domain()\n",
    "\n",
    "# Compute fluents, values, states, and actions as dictionaries for domain object\n",
    "domain.initialise_all(domain_string)"
   ]
  },
  {
   "cell_type": "markdown",
   "metadata": {},
   "source": [
    "Dictionaries of PEC components may also be accessed through class variables of the domain object. Dictionaries for fluents, values, and actions display a mapping between their PEC representation and integer encoding. The state dictionary, on the other hand, displays a mapping between vector state representations and integer state representations. Specific fluent state values may be retrieved by referring to fluent and value dictionaries."
   ]
  },
  {
   "cell_type": "code",
   "execution_count": 16,
   "metadata": {},
   "outputs": [
    {
     "name": "stdout",
     "output_type": "stream",
     "text": [
      "Fluents: {'Coin': 0, 'Dice': 1}\n",
      "Values: {'Heads': 0, 'Tails': 1, 'One': 2, 'Two': 3, 'Three': 4, 'Four': 5, 'Five': 6, 'Six': 7}\n",
      "States: {(0, 2): 0, (0, 3): 1, (0, 4): 2, (0, 5): 3, (0, 6): 4, (0, 7): 5, (1, 2): 6, (1, 3): 7, (1, 4): 8, (1, 5): 9, (1, 6): 10, (1, 7): 11}\n",
      "Actions: {'TossCoin': 0, 'TossDice': 1, 'TossCoin and TossDice': 2, 'null': 3}\n"
     ]
    }
   ],
   "source": [
    "fluent_dict = domain.fluent_dict\n",
    "value_dict = domain.value_dict\n",
    "state_dict = domain.state_dict\n",
    "action_dict = domain.action_dict\n",
    "\n",
    "print(f\"Fluents: {fluent_dict}\")\n",
    "print(f\"Values: {value_dict}\")\n",
    "print(f\"States: {state_dict}\")\n",
    "print(f\"Actions: {action_dict}\")"
   ]
  },
  {
   "cell_type": "markdown",
   "metadata": {},
   "source": [
    "#### Initial distribution of states\n",
    "\n",
    "The method `get_initial` returns a tuple containing a list of initial states and a list of their corresponding probabilities. The state with index $i$ in the first list occurs with the probability given by the $i^{th}$ element of the second list."
   ]
  },
  {
   "cell_type": "code",
   "execution_count": 17,
   "metadata": {},
   "outputs": [
    {
     "name": "stdout",
     "output_type": "stream",
     "text": [
      "([3, 9], [0.8, 0.2])\n"
     ]
    }
   ],
   "source": [
    "initial_distribution = domain.get_initial(domain_string)\n",
    "print(initial_distribution)"
   ]
  },
  {
   "cell_type": "markdown",
   "metadata": {},
   "source": [
    "#### Transition function\n",
    "\n",
    "`get_transition` returns a matrix for each action of shape $s_n \\times s_n$, where $s_n$ is the number of states. The element $p_{i,j}$ refers to the probability of transitioning from the $i^{th}$ state to the $j^{th}$ state. For the \"null\" action, the identify matrix gives the state-to-state transitions."
   ]
  },
  {
   "cell_type": "code",
   "execution_count": 18,
   "metadata": {},
   "outputs": [
    {
     "name": "stdout",
     "output_type": "stream",
     "text": [
      "TossCoin:\n",
      "[0.51, 0, 0, 0, 0, 0, 0.49, 0, 0, 0, 0, 0]\n",
      "[0, 0.51, 0, 0, 0, 0, 0, 0.49, 0, 0, 0, 0]\n",
      "[0, 0, 0.51, 0, 0, 0, 0, 0, 0.49, 0, 0, 0]\n",
      "[0, 0, 0, 0.51, 0, 0, 0, 0, 0, 0.49, 0, 0]\n",
      "[0, 0, 0, 0, 0.51, 0, 0, 0, 0, 0, 0.49, 0]\n",
      "[0, 0, 0, 0, 0, 0.51, 0, 0, 0, 0, 0, 0.49]\n",
      "[0.49, 0, 0, 0, 0, 0, 0.51, 0, 0, 0, 0, 0]\n",
      "[0, 0.49, 0, 0, 0, 0, 0, 0.51, 0, 0, 0, 0]\n",
      "[0, 0, 0.49, 0, 0, 0, 0, 0, 0.51, 0, 0, 0]\n",
      "[0, 0, 0, 0.49, 0, 0, 0, 0, 0, 0.51, 0, 0]\n",
      "[0, 0, 0, 0, 0.49, 0, 0, 0, 0, 0, 0.51, 0]\n",
      "[0, 0, 0, 0, 0, 0.49, 0, 0, 0, 0, 0, 0.51]\n",
      "TossDice:\n",
      "[0.2, 0.16, 0.16, 0.16, 0.16, 0.16, 0, 0, 0, 0, 0, 0]\n",
      "[0.16, 0.2, 0.16, 0.16, 0.16, 0.16, 0, 0, 0, 0, 0, 0]\n",
      "[0.16, 0.16, 0.2, 0.16, 0.16, 0.16, 0, 0, 0, 0, 0, 0]\n",
      "[0.16, 0.16, 0.16, 0.2, 0.16, 0.16, 0, 0, 0, 0, 0, 0]\n",
      "[0.16, 0.16, 0.16, 0.16, 0.2, 0.16, 0, 0, 0, 0, 0, 0]\n",
      "[0.16, 0.16, 0.16, 0.16, 0.16, 0.2, 0, 0, 0, 0, 0, 0]\n",
      "[0, 0, 0, 0, 0, 0, 0.2, 0.16, 0.16, 0.16, 0.16, 0.16]\n",
      "[0, 0, 0, 0, 0, 0, 0.16, 0.2, 0.16, 0.16, 0.16, 0.16]\n",
      "[0, 0, 0, 0, 0, 0, 0.16, 0.16, 0.2, 0.16, 0.16, 0.16]\n",
      "[0, 0, 0, 0, 0, 0, 0.16, 0.16, 0.16, 0.2, 0.16, 0.16]\n",
      "[0, 0, 0, 0, 0, 0, 0.16, 0.16, 0.16, 0.16, 0.2, 0.16]\n",
      "[0, 0, 0, 0, 0, 0, 0.16, 0.16, 0.16, 0.16, 0.16, 0.2]\n",
      "TossCoin and TossDice:\n",
      "[0.12, 0.08, 0.08, 0.08, 0.08, 0.08, 0.08, 0.08, 0.08, 0.08, 0.08, 0.08]\n",
      "[0.08, 0.12, 0.08, 0.08, 0.08, 0.08, 0.08, 0.08, 0.08, 0.08, 0.08, 0.08]\n",
      "[0.08, 0.08, 0.12, 0.08, 0.08, 0.08, 0.08, 0.08, 0.08, 0.08, 0.08, 0.08]\n",
      "[0.08, 0.08, 0.08, 0.12, 0.08, 0.08, 0.08, 0.08, 0.08, 0.08, 0.08, 0.08]\n",
      "[0.08, 0.08, 0.08, 0.08, 0.12, 0.08, 0.08, 0.08, 0.08, 0.08, 0.08, 0.08]\n",
      "[0.08, 0.08, 0.08, 0.08, 0.08, 0.12, 0.08, 0.08, 0.08, 0.08, 0.08, 0.08]\n",
      "[0.08, 0.08, 0.08, 0.08, 0.08, 0.08, 0.12, 0.08, 0.08, 0.08, 0.08, 0.08]\n",
      "[0.08, 0.08, 0.08, 0.08, 0.08, 0.08, 0.08, 0.12, 0.08, 0.08, 0.08, 0.08]\n",
      "[0.08, 0.08, 0.08, 0.08, 0.08, 0.08, 0.08, 0.08, 0.12, 0.08, 0.08, 0.08]\n",
      "[0.08, 0.08, 0.08, 0.08, 0.08, 0.08, 0.08, 0.08, 0.08, 0.12, 0.08, 0.08]\n",
      "[0.08, 0.08, 0.08, 0.08, 0.08, 0.08, 0.08, 0.08, 0.08, 0.08, 0.12, 0.08]\n",
      "[0.08, 0.08, 0.08, 0.08, 0.08, 0.08, 0.08, 0.08, 0.08, 0.08, 0.08, 0.12]\n",
      "null:\n",
      "[1, 0, 0, 0, 0, 0, 0, 0, 0, 0, 0, 0]\n",
      "[0, 1, 0, 0, 0, 0, 0, 0, 0, 0, 0, 0]\n",
      "[0, 0, 1, 0, 0, 0, 0, 0, 0, 0, 0, 0]\n",
      "[0, 0, 0, 1, 0, 0, 0, 0, 0, 0, 0, 0]\n",
      "[0, 0, 0, 0, 1, 0, 0, 0, 0, 0, 0, 0]\n",
      "[0, 0, 0, 0, 0, 1, 0, 0, 0, 0, 0, 0]\n",
      "[0, 0, 0, 0, 0, 0, 1, 0, 0, 0, 0, 0]\n",
      "[0, 0, 0, 0, 0, 0, 0, 1, 0, 0, 0, 0]\n",
      "[0, 0, 0, 0, 0, 0, 0, 0, 1, 0, 0, 0]\n",
      "[0, 0, 0, 0, 0, 0, 0, 0, 0, 1, 0, 0]\n",
      "[0, 0, 0, 0, 0, 0, 0, 0, 0, 0, 1, 0]\n",
      "[0, 0, 0, 0, 0, 0, 0, 0, 0, 0, 0, 1]\n"
     ]
    }
   ],
   "source": [
    "transition_matrix = domain.get_transition(domain_string)\n",
    "for action, action_int in action_dict.items():\n",
    "    print(f\"{action}:\")\n",
    "    for row in transition_matrix[action_int]:\n",
    "        print(row)"
   ]
  },
  {
   "cell_type": "markdown",
   "metadata": {},
   "source": [
    "#### Policy\n",
    "\n",
    "`get_policy` returns a probability matrix for each timestep. Each matrix is of size $(a_n+1) \\times s_n$ where $a_n + 1 $ is the number of actions including the additional null-action $A_\\emptyset$ and $s_n$ is the number of states. Thus, element $p_{i,j}$ from the $n^{th}$ matrix refers to probability that action $j$ will be taken in state $i$ at time instant $n$. The class variable `max_instant` denotes the maximum instant in the domain, or the time instant after the last action is performed."
   ]
  },
  {
   "cell_type": "code",
   "execution_count": 19,
   "metadata": {},
   "outputs": [
    {
     "name": "stdout",
     "output_type": "stream",
     "text": [
      "0: [[0, 0, 0, 1], [0, 0, 0, 1], [0, 0, 0, 1], [0, 0, 0, 1], [0, 0, 0, 1], [0, 0, 0, 1], [0, 0, 0, 1], [0, 0, 0, 1], [0, 0, 0, 1], [0, 0, 0, 1], [0, 0, 0, 1], [0, 0, 0, 1]]\n",
      "1: [[0.5625, 0.0625, 0.1875, 0.1875], [0.5625, 0.0625, 0.1875, 0.1875], [0.5625, 0.0625, 0.1875, 0.1875], [0.5625, 0.0625, 0.1875, 0.1875], [0.5625, 0.0625, 0.1875, 0.1875], [0.5625, 0.0625, 0.1875, 0.1875], [0.5625, 0.0625, 0.1875, 0.1875], [0.5625, 0.0625, 0.1875, 0.1875], [0.5625, 0.0625, 0.1875, 0.1875], [0.5625, 0.0625, 0.1875, 0.1875], [0.5625, 0.0625, 0.1875, 0.1875], [0.5625, 0.0625, 0.1875, 0.1875]]\n",
      "2: [[0.0625, 0.5625, 0.1875, 0.1875], [0.0625, 0.5625, 0.1875, 0.1875], [0.0625, 0.5625, 0.1875, 0.1875], [0.0625, 0.5625, 0.1875, 0.1875], [0.0625, 0.5625, 0.1875, 0.1875], [0.0625, 0.5625, 0.1875, 0.1875], [0.0625, 0.5625, 0.1875, 0.1875], [0.0625, 0.5625, 0.1875, 0.1875], [0.0625, 0.5625, 0.1875, 0.1875], [0.0625, 0.5625, 0.1875, 0.1875], [0.0625, 0.5625, 0.1875, 0.1875], [0.0625, 0.5625, 0.1875, 0.1875]]\n",
      "3: [[0, 0, 0, 1], [0, 0, 0, 1], [0, 0, 0, 1], [0, 0, 0, 1], [0, 0, 0, 1], [0, 0, 0, 1], [0, 0, 0, 1], [0, 0, 0, 1], [0, 0, 0, 1], [0, 0, 0, 1], [0, 0, 0, 1], [0, 0, 0, 1]]\n",
      "Max steps: 3\n"
     ]
    }
   ],
   "source": [
    "policy_matrix = domain.get_policy(domain_string)\n",
    "for row in range(len(policy_matrix)):\n",
    "    print(f\"{row}:\", policy_matrix[row])\n",
    "\n",
    "steps_n = domain.max_instant\n",
    "print(f\"Max steps: {steps_n}\")"
   ]
  },
  {
   "cell_type": "markdown",
   "metadata": {},
   "source": [
    "### PEC-MDP\n",
    "\n",
    "The `pecmdp` class of the module takes the parsed components of a domain and packages them into a full PECMDP with the following methods:\n",
    "\n",
    "* `step`: Performs a step of agent-environment interaction based on a given action, updating the current state through transition probabilities.\n",
    "\n",
    "* `reset`: Resets the PECMDP by setting the current state to one of those detailed by the initial distribution of states.\n",
    "\n",
    "* `sample_trajectory`: samples a trace of the PECMDP by taking steps in the environment according to the previously defined policy and storing a trajectory as a sequence of states."
   ]
  },
  {
   "cell_type": "markdown",
   "metadata": {},
   "source": [
    "The MDP object is first initialised with a domain's state and action encodings, the transition matrix, and the initial distribution."
   ]
  },
  {
   "cell_type": "code",
   "execution_count": 20,
   "metadata": {},
   "outputs": [],
   "source": [
    "states = list(state_dict.values())\n",
    "actions = list(action_dict.values())\n",
    "\n",
    "mdp = PEC_Parser.pecmdp(states, actions, transition_matrix, initial_distribution)"
   ]
  },
  {
   "cell_type": "markdown",
   "metadata": {},
   "source": [
    "A sampled trajectory returns states at each time instant. It takes the maximum time instant so that it resets after each sequence reaches this number of steps. Note that the `translate_int_to_lit` function of the module may be used to map encoded states back into a PEC natural language representation."
   ]
  },
  {
   "cell_type": "code",
   "execution_count": 21,
   "metadata": {},
   "outputs": [
    {
     "name": "stdout",
     "output_type": "stream",
     "text": [
      "Sampled trajectory: [9, 9, 9, 11]\n",
      "Sampled trajectory: ['Coin=Tails,Dice=Four', 'Coin=Tails,Dice=Four', 'Coin=Tails,Dice=Four', 'Coin=Tails,Dice=Six']\n"
     ]
    }
   ],
   "source": [
    "# Sample a trajectory\n",
    "n_steps = steps_n # Steps retrieved from policy previously (domain.max_instant)\n",
    "trajectory = mdp.sample_trajectory(n_steps, policy_matrix)\n",
    "\n",
    "print(f\"Sampled trajectory: {trajectory}\")\n",
    "print(f\"Sampled trajectory: {[domain.translate_int_to_lit(s) for s in trajectory]}\")"
   ]
  },
  {
   "cell_type": "markdown",
   "metadata": {},
   "source": [
    "#### Sampling and PEC Querying\n",
    "\n",
    "A simple application of this module is for probabilistic sampling. By sampling a high number of trajectories, the probability of fluent states and values at specific instants may be estimated."
   ]
  },
  {
   "cell_type": "code",
   "execution_count": 22,
   "metadata": {},
   "outputs": [],
   "source": [
    "sample_n = 10000\n",
    "sampled_trajectories = []\n",
    "\n",
    "for sample_ in range(sample_n):\n",
    "    trajectory = mdp.sample_trajectory(n_steps, policy_matrix)\n",
    "    sampled_trajectories.append(trajectory)"
   ]
  },
  {
   "cell_type": "markdown",
   "metadata": {},
   "source": [
    "Trajectories may be translated back into natural language for interpretability through the `translate_int_to_lit` function of the `domain` class."
   ]
  },
  {
   "cell_type": "code",
   "execution_count": 23,
   "metadata": {},
   "outputs": [
    {
     "name": "stdout",
     "output_type": "stream",
     "text": [
      "['Coin=Tails,Dice=Four', 'Coin=Tails,Dice=Four', 'Coin=Tails,Dice=Four', 'Coin=Tails,Dice=Six']\n",
      "['Coin=Heads,Dice=Four', 'Coin=Heads,Dice=Four', 'Coin=Tails,Dice=Four', 'Coin=Tails,Dice=Three']\n",
      "['Coin=Tails,Dice=Four', 'Coin=Tails,Dice=Four', 'Coin=Tails,Dice=Four', 'Coin=Tails,Dice=Four']\n",
      "['Coin=Heads,Dice=Four', 'Coin=Heads,Dice=Four', 'Coin=Heads,Dice=Four', 'Coin=Heads,Dice=Four']\n",
      "['Coin=Heads,Dice=Four', 'Coin=Heads,Dice=Four', 'Coin=Tails,Dice=Five', 'Coin=Tails,Dice=Six']\n",
      "['Coin=Heads,Dice=Four', 'Coin=Heads,Dice=Four', 'Coin=Heads,Dice=Four', 'Coin=Heads,Dice=One']\n",
      "['Coin=Heads,Dice=Four', 'Coin=Heads,Dice=Four', 'Coin=Tails,Dice=Four', 'Coin=Tails,Dice=Three']\n",
      "['Coin=Heads,Dice=Four', 'Coin=Heads,Dice=Four', 'Coin=Heads,Dice=Four', 'Coin=Heads,Dice=One']\n",
      "['Coin=Heads,Dice=Four', 'Coin=Heads,Dice=Four', 'Coin=Heads,Dice=One', 'Coin=Heads,Dice=Five']\n",
      "['Coin=Heads,Dice=Four', 'Coin=Heads,Dice=Four', 'Coin=Heads,Dice=Four', 'Coin=Heads,Dice=Four']\n"
     ]
    }
   ],
   "source": [
    "for i in sampled_trajectories[:10]:\n",
    "    print([domain.translate_int_to_lit(s) for s in i])"
   ]
  },
  {
   "cell_type": "markdown",
   "metadata": {},
   "source": [
    "The sampled trajectories can be queried to determine the probability of specific fluent values holding at a given time instant. Queries consist of two parts:\n",
    "\n",
    "* Time instant (_type_:  integer)\n",
    "* Partial or complete fluent state (_type_: string)"
   ]
  },
  {
   "cell_type": "code",
   "execution_count": 24,
   "metadata": {},
   "outputs": [
    {
     "name": "stdout",
     "output_type": "stream",
     "text": [
      "0.0215\n"
     ]
    }
   ],
   "source": [
    "query_time = 2 # From 0 to max time instant\n",
    "query_literal = \"Coin=Heads, Dice=Three\"\n",
    "\n",
    "states_associated = set(domain.partial_to_states(query_literal))\n",
    "sampled_states = [trajectory_[query_time] for trajectory_ in sampled_trajectories if trajectory_[query_time] in states_associated]\n",
    "    \n",
    "answer = len(sampled_states) / sample_n\n",
    "print(answer)"
   ]
  },
  {
   "cell_type": "markdown",
   "metadata": {},
   "source": [
    "#### Additional Informtation on Available Functions"
   ]
  },
  {
   "cell_type": "code",
   "execution_count": 25,
   "metadata": {},
   "outputs": [
    {
     "name": "stdout",
     "output_type": "stream",
     "text": [
      "Help on method partial_to_states in module PEC_Parser:\n",
      "\n",
      "partial_to_states(partial_fluent) method of PEC_Parser.domain instance\n",
      "    _summary_\n",
      "    \n",
      "    Args:\n",
      "        partial_fluent (_type_): string containing partial fluent state\n",
      "\n"
     ]
    }
   ],
   "source": [
    "help(domain.partial_to_states)"
   ]
  },
  {
   "cell_type": "code",
   "execution_count": 26,
   "metadata": {},
   "outputs": [
    {
     "name": "stdout",
     "output_type": "stream",
     "text": [
      "Help on method update_fluent_state in module PEC_Parser:\n",
      "\n",
      "update_fluent_state(current_state, partial_fluent) method of PEC_Parser.domain instance\n",
      "    _summary_\n",
      "    \n",
      "    Args:\n",
      "        current_state (_type_): integer encoded state (type integer and not tuple)\n",
      "        partial_fluent (_type_): string containing partial fluent state\n",
      "\n"
     ]
    }
   ],
   "source": [
    "help(domain.update_fluent_state)"
   ]
  }
 ],
 "metadata": {
  "kernelspec": {
   "display_name": "Python 3",
   "language": "python",
   "name": "python3"
  },
  "language_info": {
   "codemirror_mode": {
    "name": "ipython",
    "version": 3
   },
   "file_extension": ".py",
   "mimetype": "text/x-python",
   "name": "python",
   "nbconvert_exporter": "python",
   "pygments_lexer": "ipython3",
   "version": "3.11.2"
  }
 },
 "nbformat": 4,
 "nbformat_minor": 2
}
