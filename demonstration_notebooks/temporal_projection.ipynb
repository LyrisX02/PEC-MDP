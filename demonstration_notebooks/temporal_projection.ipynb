{
 "cells": [
  {
   "cell_type": "code",
   "execution_count": 1,
   "id": "bbe3f3e6",
   "metadata": {},
   "outputs": [],
   "source": [
    "import PEC_Parser\n",
    "import numpy as np\n",
    "import temporal_projection"
   ]
  },
  {
   "cell_type": "code",
   "execution_count": 3,
   "id": "9c127545",
   "metadata": {},
   "outputs": [
    {
     "data": {
      "text/plain": [
       "0.12232831307281232"
      ]
     },
     "execution_count": 3,
     "metadata": {},
     "output_type": "execute_result"
    }
   ],
   "source": [
    "\n",
    "domain_string = f\"pec_domains\\complex_domains\\cooking_robot.txt\"\n",
    "query = \"soup=plated\"\n",
    "query_time = 11\n",
    "conditions = [(8, \"soup=incomplete\")]\n",
    "temporal_projection.calculate_temporal_query(domain_string, query_time, query, conditions)"
   ]
  }
 ],
 "metadata": {
  "kernelspec": {
   "display_name": "Python 3",
   "language": "python",
   "name": "python3"
  },
  "language_info": {
   "codemirror_mode": {
    "name": "ipython",
    "version": 3
   },
   "file_extension": ".py",
   "mimetype": "text/x-python",
   "name": "python",
   "nbconvert_exporter": "python",
   "pygments_lexer": "ipython3",
   "version": "3.11.2"
  }
 },
 "nbformat": 4,
 "nbformat_minor": 5
}
